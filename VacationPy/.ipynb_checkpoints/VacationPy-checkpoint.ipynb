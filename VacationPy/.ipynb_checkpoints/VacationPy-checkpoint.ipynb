{
 "cells": [
  {
   "cell_type": "markdown",
   "metadata": {},
   "source": [
    "Now let's use your skills in working with weather data to plan future vacations. Use jupyter-gmaps and the Google Places API for this part of the assignment.\n",
    "\n",
    "* **Note:** if you having trouble displaying the maps try running `jupyter nbextension enable --py gmaps` in your environment and retry.\n",
    "\n",
    "* Create a heat map that displays the humidity for every city from the part I of the homework."
   ]
  },
  {
   "cell_type": "code",
   "execution_count": null,
   "metadata": {},
   "outputs": [],
   "source": []
  },
  {
   "cell_type": "markdown",
   "metadata": {},
   "source": [
    "Narrow down the DataFrame to find your ideal weather condition. For example:\n",
    "\n",
    "  * A max temperature lower than 80 degrees but higher than 70.\n",
    "\n",
    "  * Wind speed less than 10 mph.\n",
    "\n",
    "  * Zero cloudiness.\n",
    "\n",
    "  * Drop any rows that don't contain all three conditions. You want to be sure the weather is ideal.\n",
    "\n",
    "  * **Note:** Feel free to adjust to your specifications but be sure to limit the number of rows returned by your API requests to a reasonable number.\n",
    "\n",
    "* Using Google Places API to find the first hotel for each city located within 5000 meters of your coordinates.\n",
    "\n",
    "* Plot the hotels on top of the humidity heatmap with each pin containing the **Hotel Name**, **City**, and **Country**."
   ]
  },
  {
   "cell_type": "code",
   "execution_count": null,
   "metadata": {},
   "outputs": [],
   "source": []
  },
  {
   "cell_type": "code",
   "execution_count": null,
   "metadata": {},
   "outputs": [],
   "source": []
  }
 ],
 "metadata": {
  "kernelspec": {
   "display_name": "Python 3",
   "language": "python",
   "name": "python3"
  },
  "language_info": {
   "codemirror_mode": {
    "name": "ipython",
    "version": 3
   },
   "file_extension": ".py",
   "mimetype": "text/x-python",
   "name": "python",
   "nbconvert_exporter": "python",
   "pygments_lexer": "ipython3",
   "version": "3.6.9"
  }
 },
 "nbformat": 4,
 "nbformat_minor": 2
}
