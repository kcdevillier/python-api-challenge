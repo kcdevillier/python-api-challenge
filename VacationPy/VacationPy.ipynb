{
 "cells": [
  {
   "cell_type": "markdown",
   "metadata": {},
   "source": [
    "# VacationPy\n",
    "----\n",
    "\n",
    "#### Note\n",
    "* Instructions have been included for each segment. You do not have to follow them exactly, but they are included to help you think through the steps."
   ]
  },
  {
   "cell_type": "code",
   "execution_count": 14,
   "metadata": {},
   "outputs": [],
   "source": [
    "# Dependencies and Setup\n",
    "import matplotlib.pyplot as plt\n",
    "import pandas as pd\n",
    "import numpy as np\n",
    "import requests\n",
    "import gmaps\n",
    "import json\n",
    "import os\n",
    "\n",
    "# Import API key\n",
    "from config import gkey\n"
   ]
  },
  {
   "cell_type": "markdown",
   "metadata": {},
   "source": [
    "### Store Part I results into DataFrame\n",
    "* Load the csv exported in Part I to a DataFrame"
   ]
  },
  {
   "cell_type": "code",
   "execution_count": 15,
   "metadata": {},
   "outputs": [],
   "source": [
    "#import csv of Cities and weather data\n",
    "weather_df = pd.read_csv(\"../WeatherPy/output_data/cities.csv\")\n",
    "weather_df = weather_df.dropna()"
   ]
  },
  {
   "cell_type": "markdown",
   "metadata": {},
   "source": [
    "### Humidity Heatmap\n",
    "* Configure gmaps.\n",
    "* Use the Lat and Lng as locations and Humidity as the weight.\n",
    "* Add Heatmap layer to map."
   ]
  },
  {
   "cell_type": "code",
   "execution_count": 16,
   "metadata": {},
   "outputs": [
    {
     "data": {
      "application/vnd.jupyter.widget-view+json": {
       "model_id": "e9f4ccf58c084aa38b4314a164cb03a2",
       "version_major": 2,
       "version_minor": 0
      },
      "text/plain": [
       "Figure(layout=FigureLayout(height='420px'))"
      ]
     },
     "metadata": {},
     "output_type": "display_data"
    }
   ],
   "source": [
    "#configure and plot on gmaps \n",
    "gmaps.configure(api_key=gkey)\n",
    "fig=gmaps.figure(zoom_level=2, center=(0,0))\n",
    "locations = weather_df[['Lat','Lng']]\n",
    "heat_layer = gmaps.heatmap_layer(locations, weights=weather_df['Humidity'], max_intensity=100)\n",
    "fig.add_layer(heat_layer)\n",
    "fig"
   ]
  },
  {
   "cell_type": "markdown",
   "metadata": {},
   "source": [
    "### Create new DataFrame fitting weather criteria\n",
    "* Narrow down the cities to fit weather conditions.\n",
    "* Drop any rows will null values."
   ]
  },
  {
   "cell_type": "code",
   "execution_count": 17,
   "metadata": {},
   "outputs": [
    {
     "data": {
      "text/html": [
       "<div>\n",
       "<style scoped>\n",
       "    .dataframe tbody tr th:only-of-type {\n",
       "        vertical-align: middle;\n",
       "    }\n",
       "\n",
       "    .dataframe tbody tr th {\n",
       "        vertical-align: top;\n",
       "    }\n",
       "\n",
       "    .dataframe thead th {\n",
       "        text-align: right;\n",
       "    }\n",
       "</style>\n",
       "<table border=\"1\" class=\"dataframe\">\n",
       "  <thead>\n",
       "    <tr style=\"text-align: right;\">\n",
       "      <th></th>\n",
       "      <th>City</th>\n",
       "      <th>Cloudiness</th>\n",
       "      <th>Country</th>\n",
       "      <th>Date</th>\n",
       "      <th>Humidity</th>\n",
       "      <th>Lat</th>\n",
       "      <th>Lng</th>\n",
       "      <th>Max Temp</th>\n",
       "      <th>Wind Speed</th>\n",
       "    </tr>\n",
       "  </thead>\n",
       "  <tbody>\n",
       "    <tr>\n",
       "      <td>53</td>\n",
       "      <td>takoradi</td>\n",
       "      <td>2</td>\n",
       "      <td>GH</td>\n",
       "      <td>1579889596</td>\n",
       "      <td>73</td>\n",
       "      <td>4.88</td>\n",
       "      <td>-1.76</td>\n",
       "      <td>82.83</td>\n",
       "      <td>8.32</td>\n",
       "    </tr>\n",
       "    <tr>\n",
       "      <td>83</td>\n",
       "      <td>kavieng</td>\n",
       "      <td>0</td>\n",
       "      <td>PG</td>\n",
       "      <td>1579889601</td>\n",
       "      <td>65</td>\n",
       "      <td>-2.57</td>\n",
       "      <td>150.80</td>\n",
       "      <td>83.28</td>\n",
       "      <td>5.97</td>\n",
       "    </tr>\n",
       "    <tr>\n",
       "      <td>154</td>\n",
       "      <td>sumenep</td>\n",
       "      <td>3</td>\n",
       "      <td>ID</td>\n",
       "      <td>1579889500</td>\n",
       "      <td>69</td>\n",
       "      <td>-7.02</td>\n",
       "      <td>113.87</td>\n",
       "      <td>82.38</td>\n",
       "      <td>1.01</td>\n",
       "    </tr>\n",
       "    <tr>\n",
       "      <td>249</td>\n",
       "      <td>lorengau</td>\n",
       "      <td>5</td>\n",
       "      <td>PG</td>\n",
       "      <td>1579889628</td>\n",
       "      <td>70</td>\n",
       "      <td>-2.02</td>\n",
       "      <td>147.27</td>\n",
       "      <td>83.53</td>\n",
       "      <td>5.53</td>\n",
       "    </tr>\n",
       "    <tr>\n",
       "      <td>328</td>\n",
       "      <td>chuy</td>\n",
       "      <td>0</td>\n",
       "      <td>UY</td>\n",
       "      <td>1579889642</td>\n",
       "      <td>44</td>\n",
       "      <td>-33.70</td>\n",
       "      <td>-53.46</td>\n",
       "      <td>82.09</td>\n",
       "      <td>6.60</td>\n",
       "    </tr>\n",
       "    <tr>\n",
       "      <td>427</td>\n",
       "      <td>port hedland</td>\n",
       "      <td>0</td>\n",
       "      <td>AU</td>\n",
       "      <td>1579889449</td>\n",
       "      <td>88</td>\n",
       "      <td>-20.32</td>\n",
       "      <td>118.57</td>\n",
       "      <td>82.40</td>\n",
       "      <td>6.93</td>\n",
       "    </tr>\n",
       "    <tr>\n",
       "      <td>436</td>\n",
       "      <td>les cayes</td>\n",
       "      <td>0</td>\n",
       "      <td>HT</td>\n",
       "      <td>1579889660</td>\n",
       "      <td>59</td>\n",
       "      <td>18.20</td>\n",
       "      <td>-73.75</td>\n",
       "      <td>78.37</td>\n",
       "      <td>0.31</td>\n",
       "    </tr>\n",
       "    <tr>\n",
       "      <td>502</td>\n",
       "      <td>marawi</td>\n",
       "      <td>8</td>\n",
       "      <td>PH</td>\n",
       "      <td>1579889671</td>\n",
       "      <td>90</td>\n",
       "      <td>8.00</td>\n",
       "      <td>124.29</td>\n",
       "      <td>77.00</td>\n",
       "      <td>1.99</td>\n",
       "    </tr>\n",
       "  </tbody>\n",
       "</table>\n",
       "</div>"
      ],
      "text/plain": [
       "             City  Cloudiness Country        Date  Humidity    Lat     Lng  \\\n",
       "53       takoradi           2      GH  1579889596        73   4.88   -1.76   \n",
       "83        kavieng           0      PG  1579889601        65  -2.57  150.80   \n",
       "154       sumenep           3      ID  1579889500        69  -7.02  113.87   \n",
       "249      lorengau           5      PG  1579889628        70  -2.02  147.27   \n",
       "328          chuy           0      UY  1579889642        44 -33.70  -53.46   \n",
       "427  port hedland           0      AU  1579889449        88 -20.32  118.57   \n",
       "436     les cayes           0      HT  1579889660        59  18.20  -73.75   \n",
       "502        marawi           8      PH  1579889671        90   8.00  124.29   \n",
       "\n",
       "     Max Temp  Wind Speed  \n",
       "53      82.83        8.32  \n",
       "83      83.28        5.97  \n",
       "154     82.38        1.01  \n",
       "249     83.53        5.53  \n",
       "328     82.09        6.60  \n",
       "427     82.40        6.93  \n",
       "436     78.37        0.31  \n",
       "502     77.00        1.99  "
      ]
     },
     "execution_count": 17,
     "metadata": {},
     "output_type": "execute_result"
    }
   ],
   "source": [
    "#narrow dataframe to cities of desired weather conditions\n",
    "narrow_temp = weather_df.loc[(weather_df['Max Temp']>75) & (weather_df['Max Temp']<85)]\n",
    "narrow_wind = narrow_temp.loc[weather_df['Wind Speed']<10]\n",
    "hotel_df = narrow_wind.loc[narrow_wind['Cloudiness'] < 10]\n",
    "hotel_df"
   ]
  },
  {
   "cell_type": "markdown",
   "metadata": {},
   "source": [
    "### Hotel Map\n",
    "* Store into variable named `hotel_df`.\n",
    "* Add a \"Hotel Name\" column to the DataFrame.\n",
    "* Set parameters to search for hotels with 5000 meters.\n",
    "* Hit the Google Places API for each city's coordinates.\n",
    "* Store the first Hotel result into the DataFrame.\n",
    "* Plot markers on top of the heatmap."
   ]
  },
  {
   "cell_type": "code",
   "execution_count": 24,
   "metadata": {},
   "outputs": [
    {
     "name": "stderr",
     "output_type": "stream",
     "text": [
      "C:\\Users\\Deepak\\Anaconda\\envs\\PythonData\\lib\\site-packages\\ipykernel_launcher.py:2: SettingWithCopyWarning: \n",
      "A value is trying to be set on a copy of a slice from a DataFrame.\n",
      "Try using .loc[row_indexer,col_indexer] = value instead\n",
      "\n",
      "See the caveats in the documentation: http://pandas.pydata.org/pandas-docs/stable/user_guide/indexing.html#returning-a-view-versus-a-copy\n",
      "  \n"
     ]
    }
   ],
   "source": [
    "#create empty list to append to\n",
    "hotel_df['Hotel Name'] = \"\"\n",
    "hotels = []\n",
    "hotel_lat = []\n",
    "hotel_lng = []\n",
    "hotel_city = []\n",
    "hotel_county = []\n",
    "\n",
    "#set parameters\n",
    "target_coordinates = hotel_df[['Lat', 'Lng']]\n",
    "target_search = \"Hotel\"\n",
    "rankby= 'distance'\n",
    "target_type = \"lodging\"\n",
    "\n",
    "params = {\n",
    "     \"location\": \"\",\n",
    "    \"keyword\": target_search,\n",
    "    \"rankby\": rankby,\n",
    "    \"type\": target_type,\n",
    "    \"key\": gkey\n",
    "}\n",
    "\n",
    "#base url\n",
    "base_url = \"https://maps.googleapis.com/maps/api/place/nearbysearch/json\"\n",
    "\n",
    "for index, location in target_coordinates.iterrows():\n",
    "    \n",
    "    params['location'] = f\"{location[0]},{location[1]}\"     #add current lat and long to params\n",
    "    response = requests.get(base_url, params=params).json()\n",
    "    \n",
    "    #append list \n",
    "    hotel_lat.append(response['results'][0]['geometry']['location']['lat'])\n",
    "    hotel_lng.append(response['results'][0]['geometry']['location']['lng'])\n",
    "    hotel_city.append(response['results'][0]['vicinity'])\n",
    "    hotels.append(response['results'][0]['name'])\n",
    "\n",
    "hotel = pd.DataFrame({\n",
    "    'Hotel Name':hotels,\n",
    "    'City':hotel_city,\n",
    "    'Lat':hotel_lat,\n",
    "    'Lng':hotel_lng    \n",
    "})\n"
   ]
  },
  {
   "cell_type": "code",
   "execution_count": 25,
   "metadata": {},
   "outputs": [
    {
     "name": "stderr",
     "output_type": "stream",
     "text": [
      "C:\\Users\\Deepak\\Anaconda\\envs\\PythonData\\lib\\site-packages\\ipykernel_launcher.py:4: SettingWithCopyWarning: \n",
      "A value is trying to be set on a copy of a slice from a DataFrame.\n",
      "Try using .loc[row_indexer,col_indexer] = value instead\n",
      "\n",
      "See the caveats in the documentation: http://pandas.pydata.org/pandas-docs/stable/user_guide/indexing.html#returning-a-view-versus-a-copy\n",
      "  after removing the cwd from sys.path.\n"
     ]
    },
    {
     "data": {
      "text/html": [
       "<div>\n",
       "<style scoped>\n",
       "    .dataframe tbody tr th:only-of-type {\n",
       "        vertical-align: middle;\n",
       "    }\n",
       "\n",
       "    .dataframe tbody tr th {\n",
       "        vertical-align: top;\n",
       "    }\n",
       "\n",
       "    .dataframe thead th {\n",
       "        text-align: right;\n",
       "    }\n",
       "</style>\n",
       "<table border=\"1\" class=\"dataframe\">\n",
       "  <thead>\n",
       "    <tr style=\"text-align: right;\">\n",
       "      <th></th>\n",
       "      <th>Hotel Name</th>\n",
       "      <th>City</th>\n",
       "      <th>Lat</th>\n",
       "      <th>Lng</th>\n",
       "    </tr>\n",
       "  </thead>\n",
       "  <tbody>\n",
       "    <tr>\n",
       "      <td>0</td>\n",
       "      <td>Planters Lodge and Spa</td>\n",
       "      <td>Dixcove Road, Takoradi</td>\n",
       "      <td>4.882547</td>\n",
       "      <td>-1.757904</td>\n",
       "    </tr>\n",
       "    <tr>\n",
       "      <td>1</td>\n",
       "      <td>Kavieng Niu Lodge</td>\n",
       "      <td>Tanga St, Kavieng</td>\n",
       "      <td>-2.570513</td>\n",
       "      <td>150.795923</td>\n",
       "    </tr>\n",
       "    <tr>\n",
       "      <td>2</td>\n",
       "      <td>Adhirasa House</td>\n",
       "      <td>Jl. Raya Adirasa No.09, Kothe, Kolor, Kabupate...</td>\n",
       "      <td>-7.020220</td>\n",
       "      <td>113.866357</td>\n",
       "    </tr>\n",
       "    <tr>\n",
       "      <td>3</td>\n",
       "      <td>Seeadler Bay Hotel</td>\n",
       "      <td>Lot 31 Section 31, Lorengau 641</td>\n",
       "      <td>-2.019335</td>\n",
       "      <td>147.267315</td>\n",
       "    </tr>\n",
       "    <tr>\n",
       "      <td>4</td>\n",
       "      <td>Gaboto</td>\n",
       "      <td>Gaboto 918, Chuy</td>\n",
       "      <td>-33.699793</td>\n",
       "      <td>-53.464089</td>\n",
       "    </tr>\n",
       "    <tr>\n",
       "      <td>5</td>\n",
       "      <td>The Esplanade Hotel</td>\n",
       "      <td>2 Anderson St, Port Hedland</td>\n",
       "      <td>-20.314012</td>\n",
       "      <td>118.576470</td>\n",
       "    </tr>\n",
       "    <tr>\n",
       "      <td>6</td>\n",
       "      <td>Caribbean Hôtel Cayes</td>\n",
       "      <td>Rue Union, Et Rue Auxilius Fougere, Les Cayes</td>\n",
       "      <td>18.196272</td>\n",
       "      <td>-73.749804</td>\n",
       "    </tr>\n",
       "    <tr>\n",
       "      <td>7</td>\n",
       "      <td>Marawi Resort Hotel</td>\n",
       "      <td>Marawi City</td>\n",
       "      <td>7.997245</td>\n",
       "      <td>124.264040</td>\n",
       "    </tr>\n",
       "  </tbody>\n",
       "</table>\n",
       "</div>"
      ],
      "text/plain": [
       "               Hotel Name                                               City  \\\n",
       "0  Planters Lodge and Spa                             Dixcove Road, Takoradi   \n",
       "1       Kavieng Niu Lodge                                  Tanga St, Kavieng   \n",
       "2          Adhirasa House  Jl. Raya Adirasa No.09, Kothe, Kolor, Kabupate...   \n",
       "3      Seeadler Bay Hotel                    Lot 31 Section 31, Lorengau 641   \n",
       "4                  Gaboto                                   Gaboto 918, Chuy   \n",
       "5     The Esplanade Hotel                        2 Anderson St, Port Hedland   \n",
       "6   Caribbean Hôtel Cayes      Rue Union, Et Rue Auxilius Fougere, Les Cayes   \n",
       "7     Marawi Resort Hotel                                        Marawi City   \n",
       "\n",
       "         Lat         Lng  \n",
       "0   4.882547   -1.757904  \n",
       "1  -2.570513  150.795923  \n",
       "2  -7.020220  113.866357  \n",
       "3  -2.019335  147.267315  \n",
       "4 -33.699793  -53.464089  \n",
       "5 -20.314012  118.576470  \n",
       "6  18.196272  -73.749804  \n",
       "7   7.997245  124.264040  "
      ]
     },
     "execution_count": 25,
     "metadata": {},
     "output_type": "execute_result"
    }
   ],
   "source": [
    "#create list of hotel locations for mapping(I did this before I realized I needed lat and long within the dataframe itself)\n",
    "hotel_loc = [[hotel_lat[i], hotel_lng[i]] for i in range(len(hotel_lat))]\n",
    "hotel_loc\n",
    "hotel_df['Hotel Name'] = hotels\n",
    "hotel"
   ]
  },
  {
   "cell_type": "code",
   "execution_count": 29,
   "metadata": {},
   "outputs": [],
   "source": [
    "# NOTE: Do not change any of the code in this cell\n",
    "\n",
    "# Using the template add the hotel marks to the heatmap\n",
    "info_box_template = \"\"\"\n",
    "<dl>\n",
    "<dt>Name</dt><dd>{Hotel Name}</dd>\n",
    "<dt>City</dt><dd>{City}</dd>\n",
    "</dl>\n",
    "\"\"\"\n",
    "# Store the DataFrame Row\n",
    "# NOTE: be sure to update with your DataFrame name\n",
    "hotel_info = [info_box_template.format(**row) for index, row in hotel.iterrows()]\n"
   ]
  },
  {
   "cell_type": "code",
   "execution_count": 30,
   "metadata": {},
   "outputs": [
    {
     "data": {
      "application/vnd.jupyter.widget-view+json": {
       "model_id": "e9f4ccf58c084aa38b4314a164cb03a2",
       "version_major": 2,
       "version_minor": 0
      },
      "text/plain": [
       "Figure(layout=FigureLayout(height='420px'))"
      ]
     },
     "metadata": {},
     "output_type": "display_data"
    }
   ],
   "source": [
    "# Add marker layer ontop of heat map\n",
    "markers = gmaps.marker_layer(hotel_loc, label=hotels, info_box_content=hotel_info, display_info_box=True)\n",
    "fig.add_layer(markers)\n",
    "\n",
    "# Display Map\n",
    "fig"
   ]
  },
  {
   "cell_type": "code",
   "execution_count": null,
   "metadata": {},
   "outputs": [],
   "source": []
  }
 ],
 "metadata": {
  "kernelspec": {
   "display_name": "Python 3",
   "language": "python",
   "name": "python3"
  },
  "language_info": {
   "codemirror_mode": {
    "name": "ipython",
    "version": 3
   },
   "file_extension": ".py",
   "mimetype": "text/x-python",
   "name": "python",
   "nbconvert_exporter": "python",
   "pygments_lexer": "ipython3",
   "version": "3.6.9"
  },
  "latex_envs": {
   "LaTeX_envs_menu_present": true,
   "autoclose": false,
   "autocomplete": true,
   "bibliofile": "biblio.bib",
   "cite_by": "apalike",
   "current_citInitial": 1,
   "eqLabelWithNumbers": true,
   "eqNumInitial": 1,
   "hotkeys": {
    "equation": "Ctrl-E",
    "itemize": "Ctrl-I"
   },
   "labels_anchors": false,
   "latex_user_defs": false,
   "report_style_numbering": false,
   "user_envs_cfg": false
  }
 },
 "nbformat": 4,
 "nbformat_minor": 2
}
